{
 "cells": [
  {
   "cell_type": "markdown",
   "metadata": {},
   "source": [
    "### Fetching Data"
   ]
  },
  {
   "cell_type": "code",
   "execution_count": 19,
   "metadata": {},
   "outputs": [
    {
     "name": "stdout",
     "output_type": "stream",
     "text": [
      "The autoreload extension is already loaded. To reload it, use:\n",
      "  %reload_ext autoreload\n"
     ]
    }
   ],
   "source": [
    "# from SoccerNet.Downloader import SoccerNetDownloader as SNdl\n",
    "# mySNdl = SNdl(LocalDirectory=\"path/to/SoccerNet\")\n",
    "# mySNdl.downloadDataTask(task=\"jersey-2023\", split=[\"train\",\"test\",\"challenge\"])\n",
    "\n",
    "\n",
    "%load_ext autoreload\n",
    "%autoreload 2"
   ]
  },
  {
   "cell_type": "code",
   "execution_count": 20,
   "metadata": {},
   "outputs": [],
   "source": [
    "import pathlib\n",
    "import tensorflow as tf\n",
    "import numpy as np\n",
    "import os\n",
    "import keras\n",
    "import json\n",
    "import cv2\n",
    "from matplotlib import pyplot as plt\n",
    "import zipfile"
   ]
  },
  {
   "cell_type": "code",
   "execution_count": 21,
   "metadata": {},
   "outputs": [],
   "source": [
    "\"\"\"\n",
    "This function will load the data and return two zipped arrays: \n",
    "\n",
    "output:       contains an image stored as a numpy array\n",
    "class_labels: contains the corresponding label for each element of output\n",
    "\n",
    "@params\n",
    "dir: should be the path that contains both train images, and json dic with labels\n",
    "save: If you want it to save the output as a zip file (so you don't have to do this twice)\n",
    "\"\"\"\n",
    "\n",
    "def load_data(dir, save = False):\n",
    "\n",
    "    #labels is a dictionary mapping file_numer ->class_label\n",
    "    with open(dir + \"/train_gt.json\") as file:\n",
    "        labels = json.load(file)\n",
    "\n",
    "    #converts an image to a numpy array\n",
    "        \n",
    "    \"\"\"\n",
    "    Eventually we will want to resize the images when we localize. This is just so that they are all the same size.\n",
    "    \"\"\"\n",
    "    get_image = lambda file_name: cv2.resize(cv2.imread(file_name),(40, 100))\n",
    "\n",
    "    output = []\n",
    "    class_labels = []\n",
    "\n",
    "    #iterate through the folders, convert the images to RGB arrays, and then append the class label\n",
    "    for folder in list(os.listdir(dir+\"/images\")):\n",
    "\n",
    "        if folder == '.DS_Store': continue\n",
    "        #if (folder != '1' and folder != '2'): continue\n",
    "\n",
    "        cls = labels[folder]\n",
    "        images = os.listdir(os.path.join(dir+\"/images\", folder))\n",
    "\n",
    "        for image in images:\n",
    "            output.append(get_image(os.path.join(dir+\"/images\", folder, image)))\n",
    "            class_labels.append(cls)\n",
    "\n",
    "    zip_file = zip(output, class_labels)\n",
    "    if save:\n",
    "        np.savez_compressed(dir+\"/numpy_data.npz\", output, labels)\n",
    "        \n",
    "    return zip_file\n"
   ]
  },
  {
   "cell_type": "code",
   "execution_count": 22,
   "metadata": {},
   "outputs": [],
   "source": [
    "def load_small_data(dir):\n",
    "\n",
    "    data = np.load(dir)\n",
    "    lst = data.files\n",
    "    X = data[lst[0]]\n",
    "    y = data[lst[1]]\n",
    "\n",
    "    return X,y"
   ]
  },
  {
   "cell_type": "code",
   "execution_count": 23,
   "metadata": {},
   "outputs": [],
   "source": [
    "#X,y = zip(*load_data(\"/Users/omarafifi/Downloads/Jersey Detection/train\", False))\n",
    "X,y = load_small_data('/Users/omarafifi/Downloads/Jersey Detection/train/jersey_sample.npz')"
   ]
  },
  {
   "cell_type": "markdown",
   "metadata": {},
   "source": [
    "### Preprocessing"
   ]
  },
  {
   "cell_type": "code",
   "execution_count": 24,
   "metadata": {},
   "outputs": [],
   "source": [
    "from keras import Sequential\n",
    "from keras.utils import to_categorical\n",
    "from keras.layers import Conv2D, MaxPooling2D, Dense, Flatten, ZeroPadding2D\n",
    "from sklearn.model_selection import train_test_split"
   ]
  },
  {
   "cell_type": "code",
   "execution_count": 64,
   "metadata": {},
   "outputs": [],
   "source": [
    "# right now, there is no data processing. \n",
    "# But, We need to make sure that all the images have the same shape.\n",
    "# and one hot encode y labels\n",
    "def process_data(X_data, y_data):\n",
    "\n",
    "    \"\"\"\n",
    "    Prepare the response:\n",
    "\n",
    "    This part of the function just basically maps the classes to the set {0, ... 44}, and then one-hot encodes the response\n",
    "    \"\"\"\n",
    "    #for to_categorical to work, we need to map the labels to {0, ... 44}\n",
    "    label_to_int = {}\n",
    "    int_to_label = {}\n",
    "\n",
    "    for index, label in enumerate(np.unique(y_data)):\n",
    "        label_to_int[label]=index\n",
    "        int_to_label[index]=label\n",
    "\n",
    "    \n",
    "    y_data_new = np.vectorize(label_to_int.__getitem__)(y_data)\n",
    "    y_data_new = to_categorical(y_data_new)\n",
    "\n",
    "    #X_train, y_train = zip(*load_data(directory, True))\n",
    "    X_data = np.array(X_data).reshape(-1, 3, 100, 40)\n",
    "\n",
    "\n",
    "    return X_data, y_data_new\n"
   ]
  },
  {
   "cell_type": "code",
   "execution_count": 65,
   "metadata": {},
   "outputs": [],
   "source": [
    "X_processed, y_processed = process_data(X,y)\n",
    "X_train, X_test, y_train, y_test = train_test_split(X_processed, y_processed)"
   ]
  },
  {
   "cell_type": "code",
   "execution_count": 67,
   "metadata": {},
   "outputs": [],
   "source": [
    "X_train, X_test, y_train, y_test = train_test_split(X_processed, y_processed)"
   ]
  },
  {
   "cell_type": "markdown",
   "metadata": {},
   "source": [
    "### Prepare data"
   ]
  },
  {
   "cell_type": "code",
   "execution_count": 72,
   "metadata": {},
   "outputs": [
    {
     "data": {
      "text/plain": [
       "<matplotlib.image.AxesImage at 0x30a8b9ed0>"
      ]
     },
     "execution_count": 72,
     "metadata": {},
     "output_type": "execute_result"
    },
    {
     "data": {
      "image/png": "[encoded data removed]",
      "text/plain": [
       "<Figure size 640x480 with 1 Axes>"
      ]
     },
     "metadata": {},
     "output_type": "display_data"
    }
   ],
   "source": [
    "plt.imshow(X_train[82].reshape(100,40,3))"
   ]
  },
  {
   "cell_type": "markdown",
   "metadata": {},
   "source": [
    "### Model Construction"
   ]
  },
  {
   "cell_type": "code",
   "execution_count": 56,
   "metadata": {},
   "outputs": [],
   "source": [
    "model = Sequential()\n",
    "\n",
    "model.add(Conv2D(filters = 32, kernel_size = (4,4), activation = 'relu', input_shape = (100,40,3)))\n",
    "model.add(MaxPooling2D(pool_size = (2,2)))\n",
    "\n",
    "model.add(Conv2D(filters = 32, kernel_size = (4,4), activation = 'relu'))\n",
    "model.add(MaxPooling2D(pool_size = (2,2)))\n",
    "\n",
    "model.add(Conv2D(filters = 128, kernel_size = (4,4), activation = 'relu'))\n",
    "model.add(Flatten())\n",
    "\n",
    "model.add(Dense(units = 128, activation = 'relu'))\n",
    "model.add(Dense(units = 45, activation = 'softmax'))\n",
    "\n",
    "model.compile(optimizer = 'adam', loss = 'categorical_crossentropy', metrics=['Accuracy'])"
   ]
  },
  {
   "cell_type": "code",
   "execution_count": 57,
   "metadata": {},
   "outputs": [
    {
     "name": "stdout",
     "output_type": "stream",
     "text": [
      "Model: \"sequential_1\"\n",
      "_________________________________________________________________\n",
      " Layer (type)                Output Shape              Param #   \n",
      "=================================================================\n",
      " conv2d_3 (Conv2D)           (None, 97, 37, 32)        1568      \n",
      "                                                                 \n",
      " max_pooling2d_2 (MaxPoolin  (None, 48, 18, 32)        0         \n",
      " g2D)                                                            \n",
      "                                                                 \n",
      " conv2d_4 (Conv2D)           (None, 45, 15, 32)        16416     \n",
      "                                                                 \n",
      " max_pooling2d_3 (MaxPoolin  (None, 22, 7, 32)         0         \n",
      " g2D)                                                            \n",
      "                                                                 \n",
      " conv2d_5 (Conv2D)           (None, 19, 4, 128)        65664     \n",
      "                                                                 \n",
      " flatten_1 (Flatten)         (None, 9728)              0         \n",
      "                                                                 \n",
      " dense_2 (Dense)             (None, 128)               1245312   \n",
      "                                                                 \n",
      " dense_3 (Dense)             (None, 45)                5805      \n",
      "                                                                 \n",
      "=================================================================\n",
      "Total params: 1334765 (5.09 MB)\n",
      "Trainable params: 1334765 (5.09 MB)\n",
      "Non-trainable params: 0 (0.00 Byte)\n",
      "_________________________________________________________________\n"
     ]
    }
   ],
   "source": [
    "model.summary()"
   ]
  },
  {
   "cell_type": "markdown",
   "metadata": {},
   "source": [
    "### Fit the model"
   ]
  },
  {
   "cell_type": "code",
   "execution_count": null,
   "metadata": {},
   "outputs": [],
   "source": [
    "model.fit(x = X_train, batch_size=5, epochs=10, y = y_train)"
   ]
  },
  {
   "cell_type": "code",
   "execution_count": null,
   "metadata": {},
   "outputs": [
    {
     "name": "stdout",
     "output_type": "stream",
     "text": [
      "859/859 [==============================] - 8s 9ms/step - loss: 1.0314 - Accuracy: 0.6945\n",
      "training error:[1.0313957929611206, 0.6945101022720337]\n",
      "287/287 [==============================] - 3s 9ms/step - loss: 2.9543 - Accuracy: 0.4302\n",
      "testing error:[2.9543027877807617, 0.4302084445953369]\n"
     ]
    }
   ],
   "source": [
    "print(f\"training error:{model.evaluate(X_train, y_train)}\")\n",
    "print(f\"testing error:{model.evaluate(X_test, y_test)}\")"
   ]
  },
  {
   "cell_type": "markdown",
   "metadata": {},
   "source": [
    "### The Spacial Transformer Network:"
   ]
  },
  {
   "cell_type": "code",
   "execution_count": 93,
   "metadata": {},
   "outputs": [],
   "source": [
    "from sp_module import Net\n",
    "from train import Network_Trainer\n",
    "import torch\n",
    "from torch.utils.data import TensorDataset"
   ]
  },
  {
   "cell_type": "code",
   "execution_count": 104,
   "metadata": {},
   "outputs": [
    {
     "name": "stdout",
     "output_type": "stream",
     "text": [
      "Running On CPU\n"
     ]
    }
   ],
   "source": [
    "spt = Net()\n",
    "\n",
    "\n",
    "tensor_x = torch.Tensor(X_train) # transform to torch tensor\n",
    "tensor_y = torch.Tensor(y_train)\n",
    "DataSet = TensorDataset(tensor_x, tensor_y)\n",
    "\n",
    "\n",
    "trainer = Network_Trainer(spt, data = DataSet, batch_size= 100, device = 'cpu',  optimizer = 'SGD' )"
   ]
  },
  {
   "cell_type": "code",
   "execution_count": null,
   "metadata": {},
   "outputs": [],
   "source": [
    "trainer.train_model(5)"
   ]
  },
  {
   "cell_type": "markdown",
   "metadata": {},
   "source": [
    "## Things To do: \n",
    "\n",
    "1) Use GridSearchCV to impletent CV so we can tune hyperparamaters"
   ]
  }
 ],
 "metadata": {
  "kernelspec": {
   "display_name": "jd_env",
   "language": "python",
   "name": "python3"
  },
  "language_info": {
   "codemirror_mode": {
    "name": "ipython",
    "version": 3
   },
   "file_extension": ".py",
   "mimetype": "text/x-python",
   "name": "python",
   "nbconvert_exporter": "python",
   "pygments_lexer": "ipython3",
   "version": "3.11.7"
  }
 },
 "nbformat": 4,
 "nbformat_minor": 2
}

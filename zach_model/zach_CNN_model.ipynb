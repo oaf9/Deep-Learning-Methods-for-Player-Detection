{
 "cells": [
  {
   "cell_type": "markdown",
   "metadata": {},
   "source": [
    "Training a neural network to classify N jersey numbers"
   ]
  },
  {
   "cell_type": "markdown",
   "metadata": {},
   "source": [
    "Import libraries"
   ]
  },
  {
   "cell_type": "code",
   "execution_count": null,
   "metadata": {},
   "outputs": [],
   "source": [
    "import numpy as np\n",
    "import os\n",
    "import tensorflow as tf\n",
    "from tensorflow.keras.preprocessing.image import ImageDataGenerator\n",
    "from tensorflow.keras.models import Sequential\n",
    "from tensorflow.keras.layers import Conv2D, Flatten, Dense"
   ]
  },
  {
   "cell_type": "markdown",
   "metadata": {},
   "source": [
    "Specify training folder directory, image size, number of epochs"
   ]
  },
  {
   "cell_type": "code",
   "execution_count": null,
   "metadata": {},
   "outputs": [],
   "source": [
    "# Set the path to your overall data directory\n",
    "data_dir = './grouped_training_data/'\n",
    "\n",
    "# Set parameters\n",
    "img_width, img_height = 20, 20\n",
    "batch_size = 32\n",
    "epochs = 10"
   ]
  },
  {
   "cell_type": "markdown",
   "metadata": {},
   "source": [
    "Load the training images. I added a 50% probability of inverting an image as it's loaded. A validation set is also created from a subset."
   ]
  },
  {
   "cell_type": "code",
   "execution_count": null,
   "metadata": {},
   "outputs": [],
   "source": [
    "def invert_image(image):\n",
    "    return 255 - image\n",
    "\n",
    "# Data preprocessing with automatic splitting into training and validation sets\n",
    "datagen = ImageDataGenerator(\n",
    "    rescale=1./255,\n",
    "    validation_split=0.2,  # Adjust the split ratio as needed\n",
    "    preprocessing_function=lambda x: invert_image(x) if np.random.rand() < 0.5 else x  # Invert 50% of the images\n",
    ")\n",
    "\n",
    "train_generator = datagen.flow_from_directory(\n",
    "    data_dir,\n",
    "    target_size=(img_width, img_height),\n",
    "    batch_size=batch_size,\n",
    "    class_mode='categorical',\n",
    "    subset='training'  # Specify this is for training data\n",
    ")\n",
    "\n",
    "# List all directories inside data_dir\n",
    "folders = next(os.walk(data_dir))[1]\n",
    "\n",
    "# Count the number of folders\n",
    "num_folders = len(folders)\n",
    "\n",
    "num_classes = num_folders\n",
    "\n",
    "validation_generator = datagen.flow_from_directory(\n",
    "    data_dir,\n",
    "    target_size=(img_width, img_height),\n",
    "    batch_size=batch_size,\n",
    "    class_mode='categorical',\n",
    "    subset='validation'  # Specify this is for validation data\n",
    ")"
   ]
  },
  {
   "cell_type": "markdown",
   "metadata": {},
   "source": [
    "Define the CNN model and train it."
   ]
  },
  {
   "cell_type": "code",
   "execution_count": null,
   "metadata": {},
   "outputs": [],
   "source": [
    "# Define the model\n",
    "model = Sequential([\n",
    "    Conv2D(32, (3, 3), activation='relu', input_shape=(img_width, img_height, 3)),\n",
    "    Conv2D(64, (3, 3), activation='relu'),\n",
    "    Conv2D(128, (3, 3), activation='relu'),\n",
    "    Flatten(),\n",
    "    Dense(128, activation='relu'),\n",
    "    Dense(num_classes, activation='softmax')\n",
    "])\n",
    "\n",
    "# Compile the model\n",
    "model.compile(optimizer='adam',\n",
    "              loss='categorical_crossentropy',\n",
    "              metrics=['accuracy'])\n",
    "\n",
    "# Train the model\n",
    "model.fit(\n",
    "    train_generator,\n",
    "    steps_per_epoch=train_generator.samples // batch_size,\n",
    "    epochs=epochs,\n",
    "    validation_data=validation_generator,\n",
    "    validation_steps=validation_generator.samples // batch_size\n",
    ")"
   ]
  },
  {
   "cell_type": "markdown",
   "metadata": {},
   "source": [
    "Map the class labels to the actual jersey numbers"
   ]
  },
  {
   "cell_type": "code",
   "execution_count": null,
   "metadata": {},
   "outputs": [],
   "source": [
    "train_class_mapping = train_generator.class_indices\n",
    "\n",
    "class_labels = [];\n",
    "for folder_name, class_label in train_class_mapping.items():\n",
    "    #print(f\"Folder: {folder_name}, Class: {class_label}\")\n",
    "    class_labels.append(str(folder_name))"
   ]
  },
  {
   "cell_type": "markdown",
   "metadata": {},
   "source": [
    "Define function for loading and preprocessing test images"
   ]
  },
  {
   "cell_type": "code",
   "execution_count": null,
   "metadata": {},
   "outputs": [],
   "source": [
    "from tensorflow.keras.preprocessing import image\n",
    "\n",
    "def preprocess_image(img_path, img_width, img_height):\n",
    "    img = image.load_img(img_path, target_size=(img_width, img_height))\n",
    "    img = image.img_to_array(img)\n",
    "    img = np.expand_dims(img, axis=0)\n",
    "    img /= 255.0\n",
    "    return img"
   ]
  },
  {
   "cell_type": "markdown",
   "metadata": {},
   "source": [
    "Test the trained model on the test images. For now, if a test folder is empty I label it as -1."
   ]
  },
  {
   "cell_type": "code",
   "execution_count": null,
   "metadata": {},
   "outputs": [],
   "source": [
    "# Define range of folders to test. The test data has folders 0 through 1210. Testing all folders takes a while (~25min).\n",
    "folder_min = 0\n",
    "folder_max = 1210\n",
    "\n",
    "# Initialize an empty dictionary\n",
    "data_dict = {}\n",
    "\n",
    "for i in range(folder_min,folder_max+1):\n",
    "\n",
    "    # Set the path to the folder containing test images\n",
    "    test_folder_path = './cropped_test_img/' + str(i)  # Replace with the path to your test image folder\n",
    "\n",
    "    class_counts = {label: 0 for label in class_labels}\n",
    "\n",
    "    # Iterate over each image in the folder\n",
    "    for filename in os.listdir(test_folder_path):\n",
    "        if filename.endswith('.jpg'):  # Assuming all images in the folder are JPG files\n",
    "            # Preprocess the image\n",
    "            img_path = os.path.join(test_folder_path, filename)\n",
    "            img = preprocess_image(img_path, img_width, img_height)\n",
    "            \n",
    "            # Make predictions\n",
    "            predictions = model.predict(img, verbose=0)\n",
    "            #print(predictions)\n",
    "            predicted_class_index = np.argmax(predictions)\n",
    "            predicted_class_label = class_labels[predicted_class_index]\n",
    "            \n",
    "            # Update class counts\n",
    "            class_counts[predicted_class_label] += 1\n",
    "\n",
    "    # Calculate percentages\n",
    "    total_images = sum(class_counts.values())\n",
    "\n",
    "    if sum(class_counts.values()) < 1:\n",
    "        max_percentage_class = str(-1);\n",
    "    else:\n",
    "        class_percentages = {cls: count / total_images * 100 for cls, count in class_counts.items()}\n",
    "\n",
    "        # Predict the class with the highest percentage\n",
    "        max_percentage_class = max(class_percentages, key=class_percentages.get)\n",
    "    print('Folder: ' + str(i) + ', Predicted number: ' + max_percentage_class)\n",
    "\n",
    "    # Append the updated values to the dictionary\n",
    "    A = str(i)\n",
    "    B = int(max_percentage_class)\n",
    "    # Check if the key already exists in the dictionary\n",
    "    if A in data_dict:\n",
    "        # If the key exists, overwrite the value with the new value\n",
    "        data_dict[A] = B\n",
    "    else:\n",
    "        # If the key does not exist, add a new key-value pair to the dictionary\n",
    "        data_dict[A] = B"
   ]
  },
  {
   "cell_type": "markdown",
   "metadata": {},
   "source": [
    "Export the predicted jersey numbers to a JSON file"
   ]
  },
  {
   "cell_type": "code",
   "execution_count": null,
   "metadata": {},
   "outputs": [],
   "source": [
    "import json \n",
    "\n",
    "# Specify the output file path\n",
    "output_file = 'jersey_predictions.json'\n",
    "\n",
    "# Write the dictionary to a JSON file\n",
    "with open(output_file, 'w') as f:\n",
    "    json.dump(data_dict, f)\n",
    "\n",
    "print(\"Data written to\", output_file)"
   ]
  },
  {
   "cell_type": "markdown",
   "metadata": {},
   "source": [
    "Now compare the predictions to the ground truth values in test_gt.json"
   ]
  },
  {
   "cell_type": "code",
   "execution_count": null,
   "metadata": {},
   "outputs": [],
   "source": [
    "def compare_json_files(file1, file2):\n",
    "    with open(file1, 'r') as f1:\n",
    "        data1 = json.load(f1)\n",
    "\n",
    "    with open(file2, 'r') as f2:\n",
    "        data2 = json.load(f2)\n",
    "\n",
    "    total_pairs_b = len(data2)\n",
    "    matching_pairs = 0\n",
    "\n",
    "    for key, value in data2.items():\n",
    "        if key in data1 and data1[key] == value:\n",
    "            matching_pairs += 1\n",
    "\n",
    "    if total_pairs_b > 0:\n",
    "        similarity_percentage = (matching_pairs / total_pairs_b) * 100\n",
    "    else:\n",
    "        similarity_percentage = 0\n",
    "\n",
    "    return similarity_percentage\n",
    "\n",
    "# Usage\n",
    "file1 = \"test_gt.json\"\n",
    "file2 = \"jersey_predictions.json\"\n",
    "similarity_percentage = compare_json_files(file1, file2)\n",
    "print(\"Accuracy of the model (% of correct predictions):\\n\", similarity_percentage)"
   ]
  },
  {
   "cell_type": "markdown",
   "metadata": {},
   "source": [
    "Uncomment this line to save the model "
   ]
  },
  {
   "cell_type": "code",
   "execution_count": null,
   "metadata": {},
   "outputs": [],
   "source": [
    "#model.save(\"CNN_model.h5\")"
   ]
  }
 ],
 "metadata": {
  "kernelspec": {
   "display_name": "jd_env",
   "language": "python",
   "name": "python3"
  },
  "language_info": {
   "codemirror_mode": {
    "name": "ipython",
    "version": 3
   },
   "file_extension": ".py",
   "mimetype": "text/x-python",
   "name": "python",
   "nbconvert_exporter": "python",
   "pygments_lexer": "ipython3",
   "version": "3.11.5"
  }
 },
 "nbformat": 4,
 "nbformat_minor": 2
}

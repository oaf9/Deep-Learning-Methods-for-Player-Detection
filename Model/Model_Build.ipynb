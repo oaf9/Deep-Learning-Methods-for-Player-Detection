{
 "cells": [
  {
   "cell_type": "markdown",
   "metadata": {},
   "source": [
    "### Fetching Data"
   ]
  },
  {
   "cell_type": "code",
   "execution_count": 1,
   "metadata": {},
   "outputs": [],
   "source": [
    "# from SoccerNet.Downloader import SoccerNetDownloader as SNdl\n",
    "# mySNdl = SNdl(LocalDirectory=\"path/to/SoccerNet\")\n",
    "# mySNdl.downloadDataTask(task=\"jersey-2023\", split=[\"train\",\"test\",\"challenge\"])"
   ]
  },
  {
   "cell_type": "code",
   "execution_count": 2,
   "metadata": {},
   "outputs": [],
   "source": [
    "import pathlib\n",
    "import tensorflow as tf\n",
    "import numpy as np\n",
    "import os\n",
    "import keras\n",
    "import json\n",
    "import cv2\n",
    "from matplotlib import pyplot as plt\n",
    "import zipfile\n"
   ]
  },
  {
   "cell_type": "code",
   "execution_count": 11,
   "metadata": {},
   "outputs": [],
   "source": [
    "\"\"\"\n",
    "This function will load the data and return two zipped arrays: \n",
    "\n",
    "output:       contains an image stored as a numpy array\n",
    "class_labels: contains the corresponding label for each element of output\n",
    "\n",
    "@params\n",
    "dir: should be the path that contains both train images, and json dic with labels\n",
    "save: If you want it to save the output as a zip file (so you don't have to do this twice)\n",
    "\"\"\"\n",
    "\n",
    "def load_data(dir, save = False):\n",
    "\n",
    "    #labels is a dictionary mapping file_numer ->class_label\n",
    "    with open(dir + \"/train_gt.json\") as file:\n",
    "        labels = json.load(file)\n",
    "\n",
    "    #converts an image to a numpy array\n",
    "        \n",
    "    \"\"\"\n",
    "    Eventually we will want to resize the images when we localize. This is just so that they are all the same size.\n",
    "    \"\"\"\n",
    "    get_image = lambda file_name: cv2.resize(cv2.imread(file_name),(40, 100))\n",
    "\n",
    "    output = []\n",
    "    class_labels = []\n",
    "\n",
    "    #iterate through the folders, convert the images to RGB arrays, and then append the class label\n",
    "    for folder in list(os.listdir(dir+\"/images\")):\n",
    "\n",
    "        if folder == '.DS_Store': continue\n",
    "        #if (folder != '1' and folder != '2'): continue\n",
    "\n",
    "        cls = labels[folder]\n",
    "        images = os.listdir(os.path.join(dir+\"/images\", folder))\n",
    "\n",
    "        for image in images:\n",
    "            output.append(get_image(os.path.join(dir+\"/images\", folder, image)))\n",
    "            class_labels.append(cls)\n",
    "\n",
    "    zip_file = zip(output, class_labels)\n",
    "    if save:\n",
    "        np.savez_compressed(dir+\"/numpy_data.npz\", output, labels)\n",
    "        \n",
    "    return zip_file\n"
   ]
  },
  {
   "cell_type": "code",
   "execution_count": 44,
   "metadata": {},
   "outputs": [],
   "source": [
    "def load_small_data(dir):\n",
    "\n",
    "    data = np.load(dir)\n",
    "    lst = data.files\n",
    "    X = data[lst[0]]\n",
    "    y = data[lst[1]]\n",
    "\n",
    "    return X,y\n",
    "    \n"
   ]
  },
  {
   "cell_type": "code",
   "execution_count": 45,
   "metadata": {},
   "outputs": [],
   "source": [
    "#X,y = zip(*load_data(\"/Users/omarafifi/Downloads/Jersey Detection/train\", False))\n",
    "X,y = load_small_data('/Users/omarafifi/Downloads/Jersey Detection/train/jersey_sample.npz')"
   ]
  },
  {
   "cell_type": "markdown",
   "metadata": {},
   "source": [
    "### Preprocessing"
   ]
  },
  {
   "cell_type": "code",
   "execution_count": 12,
   "metadata": {},
   "outputs": [],
   "source": [
    "from keras import Sequential\n",
    "from keras.utils import to_categorical\n",
    "from keras.layers import Conv2D, MaxPooling2D, Dense, Flatten, ZeroPadding2D\n",
    "from sklearn.model_selection import train_test_split"
   ]
  },
  {
   "cell_type": "code",
   "execution_count": 13,
   "metadata": {},
   "outputs": [],
   "source": [
    "# right now, there is no data processing. \n",
    "# But, We need to make sure that all the images have the same shape.\n",
    "# and one hot encode y labels\n",
    "def process_data(X_data, y_data):\n",
    "\n",
    "    #X_train, y_train = zip(*load_data(directory, True))\n",
    "    X_data = np.array(X_data)\n",
    "    y_data = np.array(y_data)\n",
    "    y_data = to_categorical(y_data, num_classes= 45)\n",
    "\n",
    "    return X_data, y_data\n"
   ]
  },
  {
   "cell_type": "markdown",
   "metadata": {},
   "source": [
    "### Prepare data"
   ]
  },
  {
   "cell_type": "code",
   "execution_count": 16,
   "metadata": {},
   "outputs": [
    {
     "data": {
      "text/plain": [
       "<matplotlib.image.AxesImage at 0x29248b1d0>"
      ]
     },
     "execution_count": 16,
     "metadata": {},
     "output_type": "execute_result"
    },
    {
     "data": {
      "image/png": "[encoded data removed]",
      "text/plain": [
       "<Figure size 640x480 with 1 Axes>"
      ]
     },
     "metadata": {},
     "output_type": "display_data"
    }
   ],
   "source": [
    "\n",
    "plt.imshow(X[198])"
   ]
  },
  {
   "cell_type": "markdown",
   "metadata": {},
   "source": [
    "### Model Construction"
   ]
  },
  {
   "cell_type": "code",
   "execution_count": 62,
   "metadata": {},
   "outputs": [],
   "source": [
    "model = Sequential()\n",
    "\n",
    "model.add(Conv2D(filters = 32, kernel_size = (4,4), activation = 'relu', input_shape = (100,100,3)))\n",
    "model.add(MaxPooling2D(pool_size = (2,2)))\n",
    "\n",
    "model.add(Conv2D(filters = 32, kernel_size = (4,4), activation = 'relu'))\n",
    "model.add(MaxPooling2D(pool_size = (2,2)))\n",
    "\n",
    "model.add(Conv2D(filters = 128, kernel_size = (4,4), activation = 'relu'))\n",
    "model.add(Flatten())\n",
    "\n",
    "\n",
    "model.add(Dense(units = 128, activation = 'relu'))\n",
    "model.add(Dense(units = 45, activation = 'softmax'))\n",
    "\n",
    "\n",
    "model.compile(optimizer = 'adam', loss = 'categorical_crossentropy', metrics=['Accuracy'])"
   ]
  },
  {
   "cell_type": "markdown",
   "metadata": {},
   "source": [
    "### Fit the model"
   ]
  },
  {
   "cell_type": "code",
   "execution_count": null,
   "metadata": {},
   "outputs": [],
   "source": [
    "model.fit(x = X_train, batch_size=5, epochs=20, y = y_train)"
   ]
  },
  {
   "cell_type": "markdown",
   "metadata": {},
   "source": [
    "## Things To do: \n",
    "\n",
    "1) Use GridSearchCV to impletent CV so we can tune hyperparamaters\n",
    "\n",
    "2) Stratify the data set into a mini batch for managable computation time. \n"
   ]
  },
  {
   "cell_type": "markdown",
   "metadata": {},
   "source": []
  }
 ],
 "metadata": {
  "kernelspec": {
   "display_name": "jd_env",
   "language": "python",
   "name": "python3"
  },
  "language_info": {
   "codemirror_mode": {
    "name": "ipython",
    "version": 3
   },
   "file_extension": ".py",
   "mimetype": "text/x-python",
   "name": "python",
   "nbconvert_exporter": "python",
   "pygments_lexer": "ipython3",
   "version": "3.11.7"
  }
 },
 "nbformat": 4,
 "nbformat_minor": 2
}

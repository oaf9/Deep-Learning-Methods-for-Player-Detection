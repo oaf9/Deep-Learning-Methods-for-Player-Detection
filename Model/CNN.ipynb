{
 "cells": [
  {
   "cell_type": "markdown",
   "metadata": {},
   "source": [
    "### Fetching Data"
   ]
  },
  {
   "cell_type": "code",
   "execution_count": 1,
   "metadata": {},
   "outputs": [],
   "source": [
    "# from SoccerNet.Downloader import SoccerNetDownloader as SNdl\n",
    "# mySNdl = SNdl(LocalDirectory=\"path/to/SoccerNet\")\n",
    "# mySNdl.downloadDataTask(task=\"jersey-2023\", split=[\"train\",\"test\",\"challenge\"])"
   ]
  },
  {
   "cell_type": "code",
   "execution_count": 2,
   "metadata": {},
   "outputs": [],
   "source": [
    "import pathlib\n",
    "import tensorflow as tf\n",
    "import numpy as np\n",
    "import os\n",
    "import keras\n",
    "import json\n",
    "import cv2\n",
    "from matplotlib import pyplot as plt\n",
    "import zipfile"
   ]
  },
  {
   "cell_type": "code",
   "execution_count": 11,
   "metadata": {},
   "outputs": [],
   "source": [
    "\"\"\"\n",
    "This function will load the data and return two zipped arrays: \n",
    "\n",
    "output:       contains an image stored as a numpy array\n",
    "class_labels: contains the corresponding label for each element of output\n",
    "\n",
    "@params\n",
    "dir: should be the path that contains both train images, and json dic with labels\n",
    "save: If you want it to save the output as a zip file (so you don't have to do this twice)\n",
    "\"\"\"\n",
    "\n",
    "def load_data(dir, save = False):\n",
    "\n",
    "    #labels is a dictionary mapping file_numer ->class_label\n",
    "    with open(dir + \"/train_gt.json\") as file:\n",
    "        labels = json.load(file)\n",
    "\n",
    "    #converts an image to a numpy array\n",
    "        \n",
    "    \"\"\"\n",
    "    Eventually we will want to resize the images when we localize. This is just so that they are all the same size.\n",
    "    \"\"\"\n",
    "    get_image = lambda file_name: cv2.resize(cv2.imread(file_name),(40, 100))\n",
    "\n",
    "    output = []\n",
    "    class_labels = []\n",
    "\n",
    "    #iterate through the folders, convert the images to RGB arrays, and then append the class label\n",
    "    for folder in list(os.listdir(dir+\"/images\")):\n",
    "\n",
    "        if folder == '.DS_Store': continue\n",
    "        #if (folder != '1' and folder != '2'): continue\n",
    "\n",
    "        cls = labels[folder]\n",
    "        images = os.listdir(os.path.join(dir+\"/images\", folder))\n",
    "\n",
    "        for image in images:\n",
    "            output.append(get_image(os.path.join(dir+\"/images\", folder, image)))\n",
    "            class_labels.append(cls)\n",
    "\n",
    "    zip_file = zip(output, class_labels)\n",
    "    if save:\n",
    "        np.savez_compressed(dir+\"/numpy_data.npz\", output, labels)\n",
    "        \n",
    "    return zip_file\n"
   ]
  },
  {
   "cell_type": "code",
   "execution_count": 44,
   "metadata": {},
   "outputs": [],
   "source": [
    "def load_small_data(dir):\n",
    "\n",
    "    data = np.load(dir)\n",
    "    lst = data.files\n",
    "    X = data[lst[0]]\n",
    "    y = data[lst[1]]\n",
    "\n",
    "    return X,y"
   ]
  },
  {
   "cell_type": "code",
   "execution_count": 84,
   "metadata": {},
   "outputs": [],
   "source": [
    "#X,y = zip(*load_data(\"/Users/omarafifi/Downloads/Jersey Detection/train\", False))\n",
    "X,y = load_small_data('/Users/omarafifi/Downloads/Jersey Detection/train/jersey_sample.npz')"
   ]
  },
  {
   "cell_type": "markdown",
   "metadata": {},
   "source": [
    "### Preprocessing"
   ]
  },
  {
   "cell_type": "code",
   "execution_count": 12,
   "metadata": {},
   "outputs": [],
   "source": [
    "from keras import Sequential\n",
    "from keras.utils import to_categorical\n",
    "from keras.layers import Conv2D, MaxPooling2D, Dense, Flatten, ZeroPadding2D\n",
    "from sklearn.model_selection import train_test_split"
   ]
  },
  {
   "cell_type": "code",
   "execution_count": 91,
   "metadata": {},
   "outputs": [],
   "source": [
    "# right now, there is no data processing. \n",
    "# But, We need to make sure that all the images have the same shape.\n",
    "# and one hot encode y labels\n",
    "def process_data(X_data, y_data):\n",
    "\n",
    "    \"\"\"\n",
    "    Prepare the response:\n",
    "\n",
    "    This part of the function just basically maps the classes to the set {0, ... 44}, and then one-hot encodes the response\n",
    "    \"\"\"\n",
    "    #for to_categorical to work, we need to map the labels to {0, ... 44}\n",
    "    label_to_int = {}\n",
    "    int_to_label = {}\n",
    "\n",
    "    for index, label in enumerate(np.unique(y_data)):\n",
    "        label_to_int[label]=index\n",
    "        int_to_label[index]=label\n",
    "\n",
    "    \n",
    "    y_data_new = np.vectorize(label_to_int.__getitem__)(y_data)\n",
    "    y_data_new = to_categorical(y_data_new)\n",
    "\n",
    "    #X_train, y_train = zip(*load_data(directory, True))\n",
    "    X_data = np.array(X_data)\n",
    "\n",
    "\n",
    "    return X_data, y_data_new\n"
   ]
  },
  {
   "cell_type": "code",
   "execution_count": 92,
   "metadata": {},
   "outputs": [
    {
     "data": {
      "text/plain": [
       "(36650, 45)"
      ]
     },
     "execution_count": 92,
     "metadata": {},
     "output_type": "execute_result"
    }
   ],
   "source": [
    "X_train, y_train = process_data(X,y)\n",
    "\n",
    "y_train.shape"
   ]
  },
  {
   "cell_type": "markdown",
   "metadata": {},
   "source": [
    "### Prepare data"
   ]
  },
  {
   "cell_type": "code",
   "execution_count": 101,
   "metadata": {},
   "outputs": [
    {
     "data": {
      "text/plain": [
       "<matplotlib.image.AxesImage at 0x342b4a3d0>"
      ]
     },
     "execution_count": 101,
     "metadata": {},
     "output_type": "execute_result"
    },
    {
     "data": {
      "image/png": "[encoded data removed]",
      "text/plain": [
       "<Figure size 640x480 with 1 Axes>"
      ]
     },
     "metadata": {},
     "output_type": "display_data"
    }
   ],
   "source": [
    "plt.imshow(X[82])"
   ]
  },
  {
   "cell_type": "markdown",
   "metadata": {},
   "source": [
    "### Model Construction"
   ]
  },
  {
   "cell_type": "code",
   "execution_count": 104,
   "metadata": {},
   "outputs": [],
   "source": [
    "model = Sequential()\n",
    "\n",
    "model.add(Conv2D(filters = 32, kernel_size = (4,4), activation = 'relu', input_shape = (100,40,3)))\n",
    "model.add(MaxPooling2D(pool_size = (2,2)))\n",
    "\n",
    "model.add(Conv2D(filters = 32, kernel_size = (4,4), activation = 'relu'))\n",
    "model.add(MaxPooling2D(pool_size = (2,2)))\n",
    "\n",
    "model.add(Conv2D(filters = 128, kernel_size = (4,4), activation = 'relu'))\n",
    "model.add(Flatten())\n",
    "\n",
    "model.add(Dense(units = 128, activation = 'relu'))\n",
    "model.add(Dense(units = 45, activation = 'softmax'))\n",
    "\n",
    "model.compile(optimizer = 'adam', loss = 'categorical_crossentropy', metrics=['Accuracy'])"
   ]
  },
  {
   "cell_type": "markdown",
   "metadata": {},
   "source": [
    "### Fit the model"
   ]
  },
  {
   "cell_type": "code",
   "execution_count": 105,
   "metadata": {},
   "outputs": [
    {
     "name": "stdout",
     "output_type": "stream",
     "text": [
      "Epoch 1/20\n",
      "7330/7330 [==============================] - 63s 9ms/step - loss: 2.5641 - Accuracy: 0.2854\n",
      "Epoch 2/20\n",
      "7330/7330 [==============================] - 65s 9ms/step - loss: 2.1961 - Accuracy: 0.3459\n",
      "Epoch 3/20\n",
      "7330/7330 [==============================] - 68s 9ms/step - loss: 2.0841 - Accuracy: 0.3804\n",
      "Epoch 4/20\n",
      "7330/7330 [==============================] - 69s 9ms/step - loss: 1.9727 - Accuracy: 0.4076\n",
      "Epoch 5/20\n",
      "7330/7330 [==============================] - 68s 9ms/step - loss: 1.9052 - Accuracy: 0.4267\n",
      "Epoch 6/20\n",
      "7330/7330 [==============================] - 70s 10ms/step - loss: 1.8058 - Accuracy: 0.4527\n",
      "Epoch 7/20\n",
      "7330/7330 [==============================] - 66s 9ms/step - loss: 1.8062 - Accuracy: 0.4588\n",
      "Epoch 8/20\n",
      "7330/7330 [==============================] - 68s 9ms/step - loss: 2.0018 - Accuracy: 0.4063\n",
      "Epoch 9/20\n",
      "7330/7330 [==============================] - 68s 9ms/step - loss: 1.9392 - Accuracy: 0.4216\n",
      "Epoch 10/20\n",
      "7330/7330 [==============================] - 69s 9ms/step - loss: 1.8650 - Accuracy: 0.4434\n",
      "Epoch 11/20\n",
      "7330/7330 [==============================] - 69s 9ms/step - loss: 1.7911 - Accuracy: 0.4614\n",
      "Epoch 12/20\n",
      "7330/7330 [==============================] - 70s 10ms/step - loss: 1.7201 - Accuracy: 0.4799\n",
      "Epoch 13/20\n",
      "7330/7330 [==============================] - 67s 9ms/step - loss: 1.6729 - Accuracy: 0.4949\n",
      "Epoch 14/20\n",
      "7330/7330 [==============================] - 67s 9ms/step - loss: 1.6238 - Accuracy: 0.5108\n",
      "Epoch 15/20\n",
      "7330/7330 [==============================] - 66s 9ms/step - loss: 1.6178 - Accuracy: 0.5152\n",
      "Epoch 16/20\n",
      "7330/7330 [==============================] - 67s 9ms/step - loss: 1.5353 - Accuracy: 0.5387\n",
      "Epoch 17/20\n",
      "7330/7330 [==============================] - 68s 9ms/step - loss: 1.5255 - Accuracy: 0.5441\n",
      "Epoch 18/20\n",
      "7330/7330 [==============================] - 68s 9ms/step - loss: 1.5042 - Accuracy: 0.5534\n",
      "Epoch 19/20\n",
      "7330/7330 [==============================] - 67s 9ms/step - loss: 1.4850 - Accuracy: 0.5575\n",
      "Epoch 20/20\n",
      "7330/7330 [==============================] - 68s 9ms/step - loss: 1.4439 - Accuracy: 0.5700\n"
     ]
    },
    {
     "data": {
      "text/plain": [
       "<keras.src.callbacks.History at 0x2a04f04d0>"
      ]
     },
     "execution_count": 105,
     "metadata": {},
     "output_type": "execute_result"
    }
   ],
   "source": [
    "model.fit(x = X_train, batch_size=5, epochs=20, y = y_train)"
   ]
  },
  {
   "cell_type": "markdown",
   "metadata": {},
   "source": [
    "## Things To do: \n",
    "\n",
    "1) Use GridSearchCV to impletent CV so we can tune hyperparamaters"
   ]
  }
 ],
 "metadata": {
  "kernelspec": {
   "display_name": "jd_env",
   "language": "python",
   "name": "python3"
  },
  "language_info": {
   "codemirror_mode": {
    "name": "ipython",
    "version": 3
   },
   "file_extension": ".py",
   "mimetype": "text/x-python",
   "name": "python",
   "nbconvert_exporter": "python",
   "pygments_lexer": "ipython3",
   "version": "3.11.7"
  }
 },
 "nbformat": 4,
 "nbformat_minor": 2
}

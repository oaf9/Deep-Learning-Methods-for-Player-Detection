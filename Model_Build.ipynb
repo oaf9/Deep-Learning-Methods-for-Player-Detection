{
 "cells": [
  {
   "cell_type": "markdown",
   "metadata": {},
   "source": [
    "### Fetching Data"
   ]
  },
  {
   "cell_type": "code",
   "execution_count": 16,
   "metadata": {},
   "outputs": [
    {
     "name": "stdout",
     "output_type": "stream",
     "text": [
      "The autoreload extension is already loaded. To reload it, use:\n",
      "  %reload_ext autoreload\n"
     ]
    }
   ],
   "source": [
    "# from SoccerNet.Downloader import SoccerNetDownloader as SNdl\n",
    "# mySNdl = SNdl(LocalDirectory=\"path/to/SoccerNet\")\n",
    "# mySNdl.downloadDataTask(task=\"jersey-2023\", split=[\"train\",\"test\",\"challenge\"])\n",
    "\n",
    "%load_ext autoreload\n",
    "%autoreload 2"
   ]
  },
  {
   "cell_type": "code",
   "execution_count": 17,
   "metadata": {},
   "outputs": [],
   "source": [
    "import pathlib\n",
    "import tensorflow as tf\n",
    "import numpy as np\n",
    "import os\n",
    "import keras\n",
    "import json\n",
    "import cv2\n",
    "from matplotlib import pyplot as plt\n",
    "import zipfile\n",
    "import torch\n",
    "import torchvision\n",
    "from torchvision import datasets, transforms\n",
    "from sp_module import Net\n",
    "from train import Network_Trainer\n",
    "from torch.utils.data import DataLoader, TensorDataset, Dataset\n",
    "import torch.optim as optim\n",
    "import torch.nn as nn\n",
    "from DataSet import JerseyDataset"
   ]
  },
  {
   "cell_type": "code",
   "execution_count": 18,
   "metadata": {},
   "outputs": [],
   "source": [
    "\"\"\"\n",
    "This function will load the data and return two zipped arrays: \n",
    "\n",
    "output:       contains an image stored as a numpy array\n",
    "class_labels: contains the corresponding label for each element of output\n",
    "\n",
    "@params\n",
    "dir: should be the path that contains both train images, and json dic with labels\n",
    "save: If you want it to save the output as a zip file (so you don't have to do this twice)\n",
    "\"\"\"\n",
    "\n",
    "def load_data(dir, save = False):\n",
    "    #labels is a dictionary mapping file_numer ->class_label\n",
    "    with open(dir + \"/train_gt.json\") as file:\n",
    "        labels = json.load(file)\n",
    "\n",
    "    #converts an image to a numpy array\n",
    "        \n",
    "    \"\"\"\n",
    "    Eventually we will want to resize the images when we localize. This is just so that they are all the same size.\n",
    "    \"\"\"\n",
    "    get_image = lambda file_name: cv2.resize(cv2.imread(file_name),(40, 100))\n",
    "\n",
    "    output = []\n",
    "    class_labels = []\n",
    "\n",
    "    #iterate through the folders, convert the images to RGB arrays, and then append the class label\n",
    "    for folder in list(os.listdir(dir+\"/images\")):\n",
    "\n",
    "        if folder == '.DS_Store': continue\n",
    "        #if (folder != '1' and folder != '2'): continue\n",
    "\n",
    "        cls = labels[folder]\n",
    "        images = os.listdir(os.path.join(dir+\"/images\", folder))\n",
    "\n",
    "        for image in images:\n",
    "            output.append(get_image(os.path.join(dir+\"/images\", folder, image)))\n",
    "            class_labels.append(cls)\n",
    "\n",
    "    zip_file = zip(output, class_labels)\n",
    "    if save:\n",
    "        np.savez_compressed(dir+\"/numpy_data.npz\", output, labels)\n",
    "        \n",
    "    return zip_file\n",
    "\n",
    "\n",
    "def load_data_from_list(dir_train, dir_test, train_list = None, test_list = None):\n",
    "        \n",
    "\n",
    "        get_image = lambda file_name: cv2.resize(cv2.imread(file_name),(40, 100))\n",
    "\n",
    "        #get train labels\n",
    "        with open(dir_train + \"/train_gt.json\") as train_file:\n",
    "            train_labels = json.load(train_file)\n",
    "\n",
    "        #get test labels\n",
    "        with open(dir_test + \"/test_gt.json\") as test_file:\n",
    "            test_labels = json.load(test_file)\n",
    "        \n",
    "        # cls = labels[folder]\n",
    "\n",
    "        images = []\n",
    "        targets = []\n",
    "\n",
    "\n",
    "        #get all the training images\n",
    "        for index, train_image_name in enumerate(train_list):\n",
    "\n",
    "            file_number = train_image_name.split('_')[0]\n",
    "\n",
    "            image_path = dir_train + '/images/'+ file_number + '/'+ train_image_name + '.jpg'\n",
    "\n",
    "            class_label = train_labels[file_number]\n",
    "            targets.append(class_label)\n",
    "\n",
    "            images.append(get_image(image_path))\n",
    "\n",
    "        for index, test_image_name in enumerate(test_list):\n",
    "\n",
    "            file_number = test_image_name.split('_')[0]\n",
    "\n",
    "            image_path = dir_test + '/images/'+ file_number + '/'+ test_image_name + '.jpg'\n",
    "\n",
    "            class_label = test_labels[file_number]\n",
    "            targets.append(class_label)\n",
    "\n",
    "            images.append(get_image(image_path))\n",
    "\n",
    "        return images, targets\n",
    "\n",
    "\n",
    "def load_small_data(dir):\n",
    "\n",
    "    data = np.load(dir)\n",
    "    lst = data.files\n",
    "    X = data[lst[0]]\n",
    "    y = data[lst[1]]\n",
    "\n",
    "    return X,y\n",
    "\n",
    "def resize(width, height, images):\n",
    "    output = []\n",
    "\n",
    "    for image in images: \n",
    "        output.append(cv2.resize(image, (width, height)))\n",
    "    return output"
   ]
  },
  {
   "cell_type": "code",
   "execution_count": 19,
   "metadata": {},
   "outputs": [],
   "source": [
    "dir_train = '/Users/omarafifi/Downloads/Jersey Detection/Data/SoccerNet/jersey-2023/train'\n",
    "dir_test='/Users/omarafifi/Downloads/Jersey Detection/Data/SoccerNet/jersey-2023/test'\n",
    "train_list = np.genfromtxt('/Users/omarafifi/Downloads/Jersey Detection/Data/Good Images/train_img_with_numbers.txt', dtype='str')\n",
    "test_list = np.genfromtxt('/Users/omarafifi/Downloads/Jersey Detection/Data/Good Images/test_img_with_numbers.txt', dtype = 'str')"
   ]
  },
  {
   "cell_type": "code",
   "execution_count": 20,
   "metadata": {},
   "outputs": [],
   "source": [
    "X, y = load_data_from_list(dir_train=dir_train,\n",
    "                    dir_test= dir_test, train_list=train_list, test_list=test_list)\n"
   ]
  },
  {
   "cell_type": "markdown",
   "metadata": {},
   "source": [
    "### Preprocessing"
   ]
  },
  {
   "cell_type": "code",
   "execution_count": 21,
   "metadata": {},
   "outputs": [],
   "source": [
    "from keras import Sequential\n",
    "from keras.utils import to_categorical\n",
    "from keras.layers import Conv2D, MaxPooling2D, Dense, Flatten, ZeroPadding2D\n",
    "from sklearn.model_selection import train_test_split"
   ]
  },
  {
   "cell_type": "code",
   "execution_count": 22,
   "metadata": {},
   "outputs": [],
   "source": [
    "# right now, there is no data processing. \n",
    "# But, We need to make sure that all the images have the same shape.\n",
    "# and one hot encode y labels\n",
    "def process_data(X_data, y_data):\n",
    "\n",
    "    \"\"\"\n",
    "    Prepare the response:\n",
    "\n",
    "    This part of the function just basically maps the classes to the set {0, ... 44}, and then one-hot encodes the response\n",
    "    \"\"\"\n",
    "    #for to_categorical to work, we need to map the labels to {0, ... 44}\n",
    "    label_to_int = {}\n",
    "    int_to_label = {}\n",
    "\n",
    "    for index, label in enumerate(np.unique(y_data)):\n",
    "        label_to_int[label]=index\n",
    "        int_to_label[index]=label\n",
    "\n",
    "    \n",
    "    y_data_new = np.vectorize(label_to_int.__getitem__)(y_data)\n",
    "    y_data_new = to_categorical(y_data_new)\n",
    "\n",
    "    #X_train, y_train = zip(*load_data(directory, True))\n",
    "    X_data = np.array(X_data).reshape(-1, 3, 100, 40)\n",
    "\n",
    "\n",
    "    return X_data, y_data_new\n"
   ]
  },
  {
   "cell_type": "code",
   "execution_count": 23,
   "metadata": {},
   "outputs": [],
   "source": [
    "#IF USING THE MINIBATCH\n",
    "X_train, X_test, y_train, y_test = train_test_split(X, y, random_state= 64, stratify=y)\n",
    "X_train, y_train = process_data(X_train, y_train)\n",
    "X_test, y_test = process_data(X_test, y_test)"
   ]
  },
  {
   "cell_type": "markdown",
   "metadata": {},
   "source": [
    "### Prepare data"
   ]
  },
  {
   "cell_type": "code",
   "execution_count": 24,
   "metadata": {},
   "outputs": [
    {
     "data": {
      "text/plain": [
       "<matplotlib.image.AxesImage at 0x31e1abc50>"
      ]
     },
     "execution_count": 24,
     "metadata": {},
     "output_type": "execute_result"
    },
    {
     "data": {
      "image/png": "[encoded data removed]",
      "text/plain": [
       "<Figure size 640x480 with 1 Axes>"
      ]
     },
     "metadata": {},
     "output_type": "display_data"
    }
   ],
   "source": [
    "plt.imshow(X_train[130].reshape(100,40,3))"
   ]
  },
  {
   "cell_type": "markdown",
   "metadata": {},
   "source": [
    "### Model Construction"
   ]
  },
  {
   "cell_type": "markdown",
   "metadata": {},
   "source": [
    "### Fit the model"
   ]
  },
  {
   "cell_type": "markdown",
   "metadata": {},
   "source": [
    "### The Spacial Transformer Network:"
   ]
  },
  {
   "cell_type": "markdown",
   "metadata": {},
   "source": [
    "#### Choosing Hyperparamaters for training"
   ]
  },
  {
   "cell_type": "code",
   "execution_count": 31,
   "metadata": {},
   "outputs": [
    {
     "name": "stdout",
     "output_type": "stream",
     "text": [
      "cpu\n"
     ]
    }
   ],
   "source": [
    "learning_rate = 0.001\n",
    "epochs = 100\n",
    "batch_size =  24\n",
    "\n",
    "#need to compute the means and standard deviations to batch normalize: \n",
    "means = X_train.mean(axis=(0,2,3))/255\n",
    "devs = X_train.std(axis=(0,2,3))/255\n",
    "\n",
    "sp_transform =transforms.Compose([\n",
    "\n",
    "                    transforms.ToTensor(),\n",
    "                    transforms.Normalize(means,devs)\n",
    "                    ])\n",
    "\n",
    "device =  torch.device('cuda' if torch.cuda.is_available() else 'cpu')\n",
    "print(device)"
   ]
  },
  {
   "cell_type": "markdown",
   "metadata": {},
   "source": [
    "#### Prepping the data for training"
   ]
  },
  {
   "cell_type": "code",
   "execution_count": 32,
   "metadata": {},
   "outputs": [],
   "source": [
    "spt = Net()\n",
    "optimizer = optim.SGD(spt.parameters(), lr = learning_rate)\n",
    "criterion = nn.CrossEntropyLoss()\n",
    "\n",
    "train_tensor_x = torch.Tensor(X_train) # transform to torch tensor\n",
    "train_tensor_y = torch.Tensor(y_train)\n",
    "\n",
    "val_tensor_x = torch.Tensor(X_test) # transform to torch tensor\n",
    "val_tensor_y = torch.Tensor(y_test)\n",
    "\n",
    "train_dataset = TensorDataset(train_tensor_x, train_tensor_y)\n",
    "val_dataset = TensorDataset(val_tensor_x, val_tensor_y)\n",
    "\n",
    "trainer = Network_Trainer(model = spt, \n",
    "                          transforms = sp_transform, criterion = criterion, \n",
    "                          epochs = epochs, device = device, optimizer = optimizer,\n",
    "                          batch_size = batch_size, \n",
    "                          learning_rate = learning_rate, out_path = '/Users/omarafifi/Downloads/Jersey Detection/Data/Output Images')"
   ]
  },
  {
   "cell_type": "code",
   "execution_count": 33,
   "metadata": {},
   "outputs": [],
   "source": [
    "train_data = JerseyDataset(X_train, y_train, sp_transform)\n",
    "val_data = JerseyDataset(X_test, y_test, sp_transform)\n",
    "\n",
    "train_loader = DataLoader(train_data, batch_size = batch_size, shuffle = True )\n",
    "val_loader = DataLoader(val_data, batch_size = batch_size, shuffle = False)"
   ]
  },
  {
   "cell_type": "code",
   "execution_count": 36,
   "metadata": {},
   "outputs": [
    {
     "name": "stdout",
     "output_type": "stream",
     "text": [
      "Epoch 1 of 20\n",
      "Training\n"
     ]
    },
    {
     "name": "stderr",
     "output_type": "stream",
     "text": [
      "9it [00:00, 13.98it/s]                       \n"
     ]
    },
    {
     "name": "stdout",
     "output_type": "stream",
     "text": [
      "Validating\n"
     ]
    },
    {
     "name": "stderr",
     "output_type": "stream",
     "text": [
      "9it [00:00, 46.02it/s]                       \n"
     ]
    },
    {
     "name": "stdout",
     "output_type": "stream",
     "text": [
      "Train Loss: 0.1722, Train Acc: 5.50\n",
      "Validation Loss: 0.1719, Val Acc: 8.50\n",
      "Epoch 2 of 20\n",
      "Training\n"
     ]
    },
    {
     "name": "stderr",
     "output_type": "stream",
     "text": [
      "9it [00:00, 14.68it/s]                       \n"
     ]
    },
    {
     "name": "stdout",
     "output_type": "stream",
     "text": [
      "Validating\n"
     ]
    },
    {
     "name": "stderr",
     "output_type": "stream",
     "text": [
      "9it [00:00, 44.70it/s]                       \n"
     ]
    },
    {
     "name": "stdout",
     "output_type": "stream",
     "text": [
      "Train Loss: 0.1722, Train Acc: 7.00\n",
      "Validation Loss: 0.1718, Val Acc: 8.00\n",
      "Epoch 3 of 20\n",
      "Training\n"
     ]
    },
    {
     "name": "stderr",
     "output_type": "stream",
     "text": [
      "9it [00:00, 14.55it/s]                       \n"
     ]
    },
    {
     "name": "stdout",
     "output_type": "stream",
     "text": [
      "Validating\n"
     ]
    },
    {
     "name": "stderr",
     "output_type": "stream",
     "text": [
      "9it [00:00, 45.06it/s]                       \n"
     ]
    },
    {
     "name": "stdout",
     "output_type": "stream",
     "text": [
      "Train Loss: 0.1719, Train Acc: 7.50\n",
      "Validation Loss: 0.1717, Val Acc: 8.50\n",
      "Epoch 4 of 20\n",
      "Training\n"
     ]
    },
    {
     "name": "stderr",
     "output_type": "stream",
     "text": [
      "9it [00:00, 13.86it/s]                       \n"
     ]
    },
    {
     "name": "stdout",
     "output_type": "stream",
     "text": [
      "Validating\n"
     ]
    },
    {
     "name": "stderr",
     "output_type": "stream",
     "text": [
      "9it [00:00, 49.42it/s]                       \n"
     ]
    },
    {
     "name": "stdout",
     "output_type": "stream",
     "text": [
      "Train Loss: 0.1717, Train Acc: 8.50\n",
      "Validation Loss: 0.1715, Val Acc: 10.00\n",
      "Epoch 5 of 20\n",
      "Training\n"
     ]
    },
    {
     "name": "stderr",
     "output_type": "stream",
     "text": [
      "9it [00:00, 12.07it/s]                       \n"
     ]
    },
    {
     "name": "stdout",
     "output_type": "stream",
     "text": [
      "Validating\n"
     ]
    },
    {
     "name": "stderr",
     "output_type": "stream",
     "text": [
      "9it [00:00, 49.70it/s]                       \n"
     ]
    },
    {
     "name": "stdout",
     "output_type": "stream",
     "text": [
      "Train Loss: 0.1714, Train Acc: 10.00\n",
      "Validation Loss: 0.1714, Val Acc: 10.50\n",
      "Epoch 6 of 20\n",
      "Training\n"
     ]
    },
    {
     "name": "stderr",
     "output_type": "stream",
     "text": [
      "9it [00:00, 14.84it/s]                       \n"
     ]
    },
    {
     "name": "stdout",
     "output_type": "stream",
     "text": [
      "Validating\n"
     ]
    },
    {
     "name": "stderr",
     "output_type": "stream",
     "text": [
      "9it [00:00, 51.24it/s]                       \n"
     ]
    },
    {
     "name": "stdout",
     "output_type": "stream",
     "text": [
      "Train Loss: 0.1715, Train Acc: 10.50\n",
      "Validation Loss: 0.1712, Val Acc: 11.00\n",
      "Epoch 7 of 20\n",
      "Training\n"
     ]
    },
    {
     "name": "stderr",
     "output_type": "stream",
     "text": [
      "9it [00:00, 15.44it/s]                       \n"
     ]
    },
    {
     "name": "stdout",
     "output_type": "stream",
     "text": [
      "Validating\n"
     ]
    },
    {
     "name": "stderr",
     "output_type": "stream",
     "text": [
      "9it [00:00, 50.61it/s]                       \n"
     ]
    },
    {
     "name": "stdout",
     "output_type": "stream",
     "text": [
      "Train Loss: 0.1714, Train Acc: 13.50\n",
      "Validation Loss: 0.1711, Val Acc: 11.00\n",
      "Epoch 8 of 20\n",
      "Training\n"
     ]
    },
    {
     "name": "stderr",
     "output_type": "stream",
     "text": [
      "9it [00:00, 12.44it/s]                       \n"
     ]
    },
    {
     "name": "stdout",
     "output_type": "stream",
     "text": [
      "Validating\n"
     ]
    },
    {
     "name": "stderr",
     "output_type": "stream",
     "text": [
      "9it [00:00, 50.47it/s]                       \n"
     ]
    },
    {
     "name": "stdout",
     "output_type": "stream",
     "text": [
      "Train Loss: 0.1711, Train Acc: 16.00\n",
      "Validation Loss: 0.1709, Val Acc: 13.00\n",
      "Epoch 9 of 20\n",
      "Training\n"
     ]
    },
    {
     "name": "stderr",
     "output_type": "stream",
     "text": [
      "9it [00:00, 15.27it/s]                       \n"
     ]
    },
    {
     "name": "stdout",
     "output_type": "stream",
     "text": [
      "Validating\n"
     ]
    },
    {
     "name": "stderr",
     "output_type": "stream",
     "text": [
      "9it [00:00, 47.23it/s]                       \n"
     ]
    },
    {
     "name": "stdout",
     "output_type": "stream",
     "text": [
      "Train Loss: 0.1709, Train Acc: 17.00\n",
      "Validation Loss: 0.1707, Val Acc: 13.50\n",
      "Epoch 10 of 20\n",
      "Training\n"
     ]
    },
    {
     "name": "stderr",
     "output_type": "stream",
     "text": [
      "9it [00:00, 15.18it/s]                       \n"
     ]
    },
    {
     "name": "stdout",
     "output_type": "stream",
     "text": [
      "Validating\n"
     ]
    },
    {
     "name": "stderr",
     "output_type": "stream",
     "text": [
      "9it [00:00, 48.03it/s]                       \n"
     ]
    },
    {
     "name": "stdout",
     "output_type": "stream",
     "text": [
      "Train Loss: 0.1708, Train Acc: 18.00\n",
      "Validation Loss: 0.1705, Val Acc: 15.00\n",
      "Epoch 11 of 20\n",
      "Training\n"
     ]
    },
    {
     "name": "stderr",
     "output_type": "stream",
     "text": [
      "9it [00:00, 12.99it/s]                       \n"
     ]
    },
    {
     "name": "stdout",
     "output_type": "stream",
     "text": [
      "Validating\n"
     ]
    },
    {
     "name": "stderr",
     "output_type": "stream",
     "text": [
      "9it [00:00, 44.69it/s]                       \n"
     ]
    },
    {
     "name": "stdout",
     "output_type": "stream",
     "text": [
      "Train Loss: 0.1705, Train Acc: 18.00\n",
      "Validation Loss: 0.1703, Val Acc: 15.50\n",
      "Epoch 12 of 20\n",
      "Training\n"
     ]
    },
    {
     "name": "stderr",
     "output_type": "stream",
     "text": [
      "9it [00:00, 16.01it/s]                       \n"
     ]
    },
    {
     "name": "stdout",
     "output_type": "stream",
     "text": [
      "Validating\n"
     ]
    },
    {
     "name": "stderr",
     "output_type": "stream",
     "text": [
      "9it [00:00, 45.61it/s]                       \n"
     ]
    },
    {
     "name": "stdout",
     "output_type": "stream",
     "text": [
      "Train Loss: 0.1700, Train Acc: 18.50\n",
      "Validation Loss: 0.1701, Val Acc: 15.50\n",
      "Epoch 13 of 20\n",
      "Training\n"
     ]
    },
    {
     "name": "stderr",
     "output_type": "stream",
     "text": [
      "9it [00:00, 15.76it/s]                       \n"
     ]
    },
    {
     "name": "stdout",
     "output_type": "stream",
     "text": [
      "Validating\n"
     ]
    },
    {
     "name": "stderr",
     "output_type": "stream",
     "text": [
      "9it [00:00, 47.55it/s]                       \n"
     ]
    },
    {
     "name": "stdout",
     "output_type": "stream",
     "text": [
      "Train Loss: 0.1700, Train Acc: 18.50\n",
      "Validation Loss: 0.1698, Val Acc: 17.00\n",
      "Epoch 14 of 20\n",
      "Training\n"
     ]
    },
    {
     "name": "stderr",
     "output_type": "stream",
     "text": [
      "9it [00:00, 13.88it/s]                       \n"
     ]
    },
    {
     "name": "stdout",
     "output_type": "stream",
     "text": [
      "Validating\n"
     ]
    },
    {
     "name": "stderr",
     "output_type": "stream",
     "text": [
      "9it [00:00, 50.44it/s]                       \n"
     ]
    },
    {
     "name": "stdout",
     "output_type": "stream",
     "text": [
      "Train Loss: 0.1694, Train Acc: 19.00\n",
      "Validation Loss: 0.1695, Val Acc: 17.00\n",
      "Epoch 15 of 20\n",
      "Training\n"
     ]
    },
    {
     "name": "stderr",
     "output_type": "stream",
     "text": [
      "9it [00:00, 14.00it/s]                       \n"
     ]
    },
    {
     "name": "stdout",
     "output_type": "stream",
     "text": [
      "Validating\n"
     ]
    },
    {
     "name": "stderr",
     "output_type": "stream",
     "text": [
      "9it [00:00, 45.00it/s]                       \n"
     ]
    },
    {
     "name": "stdout",
     "output_type": "stream",
     "text": [
      "Train Loss: 0.1697, Train Acc: 19.00\n",
      "Validation Loss: 0.1691, Val Acc: 16.50\n",
      "Epoch 16 of 20\n",
      "Training\n"
     ]
    },
    {
     "name": "stderr",
     "output_type": "stream",
     "text": [
      "9it [00:00, 15.64it/s]                       \n"
     ]
    },
    {
     "name": "stdout",
     "output_type": "stream",
     "text": [
      "Validating\n"
     ]
    },
    {
     "name": "stderr",
     "output_type": "stream",
     "text": [
      "9it [00:00, 46.14it/s]                       \n"
     ]
    },
    {
     "name": "stdout",
     "output_type": "stream",
     "text": [
      "Train Loss: 0.1694, Train Acc: 19.00\n",
      "Validation Loss: 0.1688, Val Acc: 16.00\n",
      "Epoch 17 of 20\n",
      "Training\n"
     ]
    },
    {
     "name": "stderr",
     "output_type": "stream",
     "text": [
      "9it [00:00, 13.87it/s]                       \n"
     ]
    },
    {
     "name": "stdout",
     "output_type": "stream",
     "text": [
      "Validating\n"
     ]
    },
    {
     "name": "stderr",
     "output_type": "stream",
     "text": [
      "9it [00:00, 45.02it/s]                       \n"
     ]
    },
    {
     "name": "stdout",
     "output_type": "stream",
     "text": [
      "Train Loss: 0.1684, Train Acc: 19.00\n",
      "Validation Loss: 0.1684, Val Acc: 16.00\n",
      "Epoch 18 of 20\n",
      "Training\n"
     ]
    },
    {
     "name": "stderr",
     "output_type": "stream",
     "text": [
      "9it [00:00, 13.87it/s]                       \n"
     ]
    },
    {
     "name": "stdout",
     "output_type": "stream",
     "text": [
      "Validating\n"
     ]
    },
    {
     "name": "stderr",
     "output_type": "stream",
     "text": [
      "9it [00:00, 47.60it/s]                       \n"
     ]
    },
    {
     "name": "stdout",
     "output_type": "stream",
     "text": [
      "Train Loss: 0.1685, Train Acc: 19.00\n",
      "Validation Loss: 0.1680, Val Acc: 16.00\n",
      "Epoch 19 of 20\n",
      "Training\n"
     ]
    },
    {
     "name": "stderr",
     "output_type": "stream",
     "text": [
      "9it [00:00, 12.66it/s]                       \n"
     ]
    },
    {
     "name": "stdout",
     "output_type": "stream",
     "text": [
      "Validating\n"
     ]
    },
    {
     "name": "stderr",
     "output_type": "stream",
     "text": [
      "9it [00:00, 43.19it/s]                       \n"
     ]
    },
    {
     "name": "stdout",
     "output_type": "stream",
     "text": [
      "Train Loss: 0.1678, Train Acc: 19.00\n",
      "Validation Loss: 0.1675, Val Acc: 16.00\n",
      "Epoch 20 of 20\n",
      "Training\n"
     ]
    },
    {
     "name": "stderr",
     "output_type": "stream",
     "text": [
      "9it [00:00, 14.55it/s]                       \n"
     ]
    },
    {
     "name": "stdout",
     "output_type": "stream",
     "text": [
      "Validating\n"
     ]
    },
    {
     "name": "stderr",
     "output_type": "stream",
     "text": [
      "9it [00:00, 47.62it/s]                       \n"
     ]
    },
    {
     "name": "stdout",
     "output_type": "stream",
     "text": [
      "Train Loss: 0.1671, Train Acc: 19.00\n",
      "Validation Loss: 0.1670, Val Acc: 16.00\n"
     ]
    },
    {
     "name": "stderr",
     "output_type": "stream",
     "text": [
      "Exception ignored in: <bound method IPythonKernel._clean_thread_parent_frames of <ipykernel.ipkernel.IPythonKernel object at 0x105b67d90>>\n",
      "Traceback (most recent call last):\n",
      "  File \"/Users/omarafifi/Downloads/Jersey Detection/jd_env/lib/python3.11/site-packages/ipykernel/ipkernel.py\", line 770, in _clean_thread_parent_frames\n",
      "    def _clean_thread_parent_frames(\n",
      "\n",
      "KeyboardInterrupt: \n"
     ]
    }
   ],
   "source": [
    "trainer.train_model(train_loader, train_data, val_loader, val_data)"
   ]
  },
  {
   "cell_type": "markdown",
   "metadata": {},
   "source": [
    "## Things To do: \n",
    "\n",
    "1) Use GridSearchCV to impletent CV so we can tune hyperparamaters"
   ]
  }
 ],
 "metadata": {
  "kernelspec": {
   "display_name": "jd_env",
   "language": "python",
   "name": "python3"
  },
  "language_info": {
   "codemirror_mode": {
    "name": "ipython",
    "version": 3
   },
   "file_extension": ".py",
   "mimetype": "text/x-python",
   "name": "python",
   "nbconvert_exporter": "python",
   "pygments_lexer": "ipython3",
   "version": "3.11.7"
  }
 },
 "nbformat": 4,
 "nbformat_minor": 2
}
